{
 "cells": [
  {
   "cell_type": "code",
   "execution_count": 1,
   "metadata": {},
   "outputs": [],
   "source": [
    "import numpy as np\n",
    "import tensorflow as tf"
   ]
  },
  {
   "cell_type": "markdown",
   "metadata": {},
   "source": [
    "# Question 2: Single Layer Perceptron\n",
    "\n"
   ]
  },
  {
   "cell_type": "code",
   "execution_count": 2,
   "metadata": {},
   "outputs": [
    {
     "name": "stdout",
     "output_type": "stream",
     "text": [
      "Original training images shape: (60000, 28, 28)\n",
      "Original training labels shape: (60000,)\n"
     ]
    }
   ],
   "source": [
    "# Load the MNIST dataset\n",
    "(train_images, train_labels), (test_images, test_labels) = tf.keras.datasets.mnist.load_data()\n",
    "\n",
    "# Check the shape of the data\n",
    "print(\"Original training images shape:\", train_images.shape)\n",
    "print(\"Original training labels shape:\", train_labels.shape)\n"
   ]
  },
  {
   "cell_type": "code",
   "execution_count": 3,
   "metadata": {},
   "outputs": [
    {
     "name": "stdout",
     "output_type": "stream",
     "text": [
      "Original training images shape: (60000, 28, 28)\n",
      "Reshaped training images shape: (60000, 784)\n",
      "Reshaped test images shape: (10000, 784)\n"
     ]
    }
   ],
   "source": [
    "# --- Preprocess the Data ---\n",
    "\n",
    "# Normalize the pixel values to be between 0 and 1\n",
    "# Convert to float32 first to ensure the division results in a float, not an integer.\n",
    "train_images = train_images.astype('float32') / 255.0\n",
    "test_images = test_images.astype('float32') / 255.0\n",
    "\n",
    "# Reshape the images from (28, 28) to a flat vector of 784 elements\n",
    "train_images_flat = train_images.reshape(train_images.shape[0], 784)\n",
    "test_images_flat = test_images.reshape(test_images.shape[0], 784)\n",
    "\n",
    "# Check the new shape to confirm it's correct\n",
    "print(f\"Original training images shape: {train_images.shape}\")\n",
    "print(f\"Reshaped training images shape: {train_images_flat.shape}\")\n",
    "print(f\"Reshaped test images shape: {test_images_flat.shape}\")"
   ]
  },
  {
   "cell_type": "code",
   "execution_count": 4,
   "metadata": {},
   "outputs": [
    {
     "name": "stdout",
     "output_type": "stream",
     "text": [
      "Original training labels shape: (60000,)\n",
      "One-hot encoded training labels shape: (60000, 10)\n",
      "\n",
      "--- Example ---\n",
      "Original first label: 5\n",
      "One-hot encoded first label: [0. 0. 0. 0. 0. 1. 0. 0. 0. 0.]\n"
     ]
    }
   ],
   "source": [
    "# --- One-Hot Encode the Labels ---\n",
    "from tensorflow.keras.utils import to_categorical\n",
    "\n",
    "# Convert labels to one-hot encoding\n",
    "train_labels_one_hot = to_categorical(train_labels, num_classes=10)\n",
    "test_labels_one_hot = to_categorical(test_labels, num_classes=10)\n",
    "\n",
    "# Check the new shape of the labels and look at an example\n",
    "print(\"Original training labels shape:\", train_labels.shape)\n",
    "print(\"One-hot encoded training labels shape:\", train_labels_one_hot.shape)\n",
    "\n",
    "print(\"\\n--- Example ---\")\n",
    "print(\"Original first label:\", train_labels[0])\n",
    "print(\"One-hot encoded first label:\", train_labels_one_hot[0])"
   ]
  }
 ],
 "metadata": {
  "kernelspec": {
   "display_name": "pattern_recognition_venv",
   "language": "python",
   "name": "python3"
  },
  "language_info": {
   "codemirror_mode": {
    "name": "ipython",
    "version": 3
   },
   "file_extension": ".py",
   "mimetype": "text/x-python",
   "name": "python",
   "nbconvert_exporter": "python",
   "pygments_lexer": "ipython3",
   "version": "3.12.6"
  }
 },
 "nbformat": 4,
 "nbformat_minor": 2
}
