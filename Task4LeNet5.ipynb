{
 "cells": [
  {
   "cell_type": "code",
   "execution_count": null,
   "metadata": {},
   "outputs": [],
   "source": [
    "import numpy as np\n",
    "import tensorflow as tf\n",
    "from tensorflow.keras.utils import to_categorical\n"
   ]
  },
  {
   "cell_type": "markdown",
   "metadata": {},
   "source": [
    "# Task 4: LeNet-5 CNN on MNIST for Handwritten Digit Classification "
   ]
  },
  {
   "cell_type": "code",
   "execution_count": null,
   "metadata": {},
   "outputs": [],
   "source": [
    "# --- 1. Load the MNIST Dataset ---\n",
    "(train_images, train_labels), (test_images, test_labels) = tf.keras.datasets.mnist.load_data()\n",
    "\n",
    "# --- 2. Normalize the Data ---\n",
    "# Convert to float32 and scale pixel values to the [0, 1] range.\n",
    "train_images = train_images.astype('float32') / 255.0\n",
    "test_images = test_images.astype('float32') / 255.0\n",
    "\n",
    "# --- 3. Reshape the Data for the CNN ---\n",
    "# I learned that a CNN in Keras requires an additional dimension for the color channel.\n",
    "# For grayscale images, this dimension is 1.\n",
    "# I understand that the required shape for the input data is (num_samples, height, width, channels).\n",
    "train_images = train_images.reshape(train_images.shape[0], 28, 28, 1)\n",
    "test_images = test_images.reshape(test_images.shape[0], 28, 28, 1)\n",
    "\n",
    "# --- 4. One-Hot Encode the Labels ---\n",
    "\n",
    "train_labels = to_categorical(train_labels, num_classes=10)\n",
    "test_labels = to_categorical(test_labels, num_classes=10)\n",
    "\n",
    "# --- 5. Create a Validation Set ---\n",
    "# Creating a validation set  by taking the last 10,000 samples from the training set to prevent overfitting\n",
    "x_val = train_images[-10000:]\n",
    "y_val = train_labels[-10000:]\n",
    "x_train = train_images[:-10000]\n",
    "y_train = train_labels[:-10000]\n",
    "\n",
    "# --- 6. Print Shapes to Verify ---\n",
    "print(\"--- Data Shapes ---\")\n",
    "print(\"Training images shape:\", x_train.shape)\n",
    "print(\"Training labels shape:\", y_train.shape)\n",
    "print(\"Validation images shape:\", x_val.shape)\n",
    "print(\"Validation labels shape:\", y_val.shape)\n",
    "print(\"Test images shape:\", test_images.shape)\n",
    "print(\"Test labels shape:\", test_labels.shape)"
   ]
  }
 ],
 "metadata": {
  "kernelspec": {
   "display_name": "pattern_recognition_venv",
   "language": "python",
   "name": "python3"
  },
  "language_info": {
   "name": "python",
   "version": "3.12.6"
  }
 },
 "nbformat": 4,
 "nbformat_minor": 2
}
